{
 "cells": [
  {
   "cell_type": "markdown",
   "metadata": {},
   "source": [
    "# Exercise 8\n",
    "1. Fungsi is_sentence_case merupakan fungsi yang mengembalikan nilai boolean True jika huruf pertama pada input string berupa huruf kapital atau mengembalikan nilai boolean False jika huruf pertama pada input string bukan berupa huruf kapital. Salinlah kode dibawah ini dan lengkapi kode yang rumpang sehingga menghasilkan input yang diinginkan\n",
    "![](./images/08_FungsiFungsiString01.png)"
   ]
  },
  {
   "cell_type": "code",
   "execution_count": 1,
   "metadata": {},
   "outputs": [
    {
     "name": "stdout",
     "output_type": "stream",
     "text": [
      "True\n",
      "False\n"
     ]
    }
   ],
   "source": [
    "#Kerjakan nomor 1 disini\n",
    "def is_sentence_case(str) :\n",
    "    if str.capitalize() == str :\n",
    "        return True\n",
    "    return False\n",
    "\n",
    "print(is_sentence_case('Aku suka bahasa pemrograman python'))\n",
    "print(is_sentence_case('aku suka bahasa pemrograman python'))"
   ]
  },
  {
   "cell_type": "markdown",
   "metadata": {},
   "source": [
    "2. Fungsi vowel_letters_count merupakan fungsi yang mengembalikan jumlah huruf vokal pada input kalimat. Salinlah kode berikut dan lengkapi kode sehingga menghasilkan output yang diinginkan\n",
    "![](./images/08_FungsiFungsiString02.png)"
   ]
  },
  {
   "cell_type": "code",
   "execution_count": 4,
   "metadata": {},
   "outputs": [
    {
     "name": "stdout",
     "output_type": "stream",
     "text": [
      "12\n"
     ]
    }
   ],
   "source": [
    "#Kerjakan nomor 2 disini\n",
    "def vowel_letters_count(str) :\n",
    "    str = str.lower()\n",
    "    kaps = str.count(\"a\") + str.count(\"i\") + str.count(\"u\") + str.count(\"e\") +str.count(\"o\")\n",
    "    return kaps\n",
    "print(vowel_letters_count(\"Mahasiswa Teknik Industri Angkatan 2021\"))\n"
   ]
  },
  {
   "cell_type": "markdown",
   "metadata": {},
   "source": [
    "3. Fungsi replace_string merupakan fungsi yang berguna untuk mengganti substring lama pada input kalimat dengan substring baru namun fungsi ini hanya bekerja mengganti substring lama pada akhir kalimat. Salinlah kode berikut dan lengkapi kode yang masih rumpang sehingga menghasilkan output yang diharapkan\n",
    "![](./images/08_FungsiFungsiString03.png)"
   ]
  },
  {
   "cell_type": "code",
   "execution_count": 5,
   "metadata": {},
   "outputs": [
    {
     "name": "stdout",
     "output_type": "stream",
     "text": [
      "Budi memelihara 2 kucing dan 1 anjing\n",
      "Dia memperoleh banyak udang dengan cara menjual perhiasan emas\n"
     ]
    }
   ],
   "source": [
    "#Kerjakan nomor 3 disini\n",
    "def replace_string(sentence,old,new) :\n",
    "    if sentence.endswith(old) :\n",
    "        i = sentence.rfind(old)\n",
    "        new_sentence = sentence[:i] + new\n",
    "        return new_sentence\n",
    "    return sentence\n",
    "\n",
    "print(replace_string(\"Budi memelihara 2 kucing dan 1 kucing\", \"kucing\", \"anjing\"))\n",
    "print(replace_string(\"Dia memperoleh banyak udang dengan cara menjual perhiasan berlian\",\"berlian\", \"emas\"))\n"
   ]
  },
  {
   "cell_type": "markdown",
   "metadata": {},
   "source": [
    "4. Salinlah kode berikut dan lengkapi kode yang masih rumpang sehingga menghasilkan output yang diharapkan\n",
    "![](./images/08_FungsiFungsiString04.png)"
   ]
  },
  {
   "cell_type": "code",
   "execution_count": 8,
   "metadata": {},
   "outputs": [
    {
     "ename": "SyntaxError",
     "evalue": "invalid syntax (3117043912.py, line 6)",
     "output_type": "error",
     "traceback": [
      "\u001b[1;36m  Input \u001b[1;32mIn [8]\u001b[1;36m\u001b[0m\n\u001b[1;33m    print(kalimat1.center(24,\"*\"))sini\u001b[0m\n\u001b[1;37m                                  ^\u001b[0m\n\u001b[1;31mSyntaxError\u001b[0m\u001b[1;31m:\u001b[0m invalid syntax\n"
     ]
    }
   ],
   "source": [
    "#Kerjakan nomor 4 dikalimat1 = \"Praktikum Prokom\"\n",
    "kalimat1= \"Praktikum Prokom\"\n",
    "print(\"kalimat1 sebelum perubahan:\")\n",
    "print(kalimat1)\n",
    "print(\"\\nkalimat1 setelah perubahan\")\n",
    "print(kalimat1.center(24,\"*\"))\n"
   ]
  },
  {
   "cell_type": "markdown",
   "metadata": {},
   "source": [
    "5. Salinlah kode berikut\n",
    "![](./images/08_FungsiFungsiString05.png)"
   ]
  },
  {
   "cell_type": "code",
   "execution_count": null,
   "metadata": {},
   "outputs": [],
   "source": [
    "#Kerjakan nomor 5 disini"
   ]
  },
  {
   "cell_type": "markdown",
   "metadata": {},
   "source": [
    "6. Untuk meningkatkan pemahaman kalian dalam fungsi-fungsi numerik, salin kode berikut dan lengkapi kode yang masih rumpang tersebut\n",
    "![](./images/08_FungsiFungsiNumerik.png)"
   ]
  },
  {
   "cell_type": "code",
   "execution_count": null,
   "metadata": {},
   "outputs": [],
   "source": [
    "#Kerjakan nomor 6 disini"
   ]
  },
  {
   "cell_type": "markdown",
   "metadata": {},
   "source": [
    "7. Untuk meningkatkan pemahaman kalian dalam fungsi-fungsi dictionary, salin kode berikut dan lengkapi kode yang masih rumpang tersebut\n",
    "![](./images/08_FungsiFungsiDictionary.png)"
   ]
  },
  {
   "cell_type": "code",
   "execution_count": null,
   "metadata": {},
   "outputs": [],
   "source": [
    "#Kerjakan nomor 7 disini"
   ]
  },
  {
   "cell_type": "markdown",
   "metadata": {},
   "source": [
    "8. Untuk meningkatkan pemahaman kalian dalam fungsi-fungsi list, salin kode berikut dan lengkapi kode yang masih rumpang tersebut\n",
    "![](./images/08_FungsiFungsiList01.png)\n",
    "![](./images/08_FungsiFungsiList02.png)"
   ]
  },
  {
   "cell_type": "code",
   "execution_count": null,
   "metadata": {},
   "outputs": [],
   "source": [
    "#Kerjakan nomor 8 disini"
   ]
  },
  {
   "cell_type": "markdown",
   "metadata": {},
   "source": [
    "### Cara Pengumpulan\n",
    "\n",
    "1. Buka *New Terminal*\n",
    "2. Pastikan *path* Terminal adalah folder repositori kalian (NIM-Nama-Prokom).\n",
    "3. Tambahkan file yang akan ditrack dengan `git add <nama file>`. Nama file bisa diubah . (titik) yang artinya semua file dalam folder akan ditrack.\n",
    "4. Lakukan commit perubahan dengan `git commit -m <deskripsi>`.\n",
    "5. Lakukan push dengan `git push -u origin <nama branch>`. Nama branch dapat diketahui dengan `git branch`.\n",
    "6. Pastikan Exercise-08 telah terupload dan dapat diakses di repositori dengan mengaksesnya di browser."
   ]
  },
  {
   "cell_type": "markdown",
   "metadata": {},
   "source": [
    "***\n",
    "<h1 align=\"center\">Well Done!!!</h1> \n",
    "\n",
    "***"
   ]
  }
 ],
 "metadata": {
  "interpreter": {
   "hash": "8f8cf99212f81ad0c4765861267244807ee1c18364846cdce387b28994a977ba"
  },
  "kernelspec": {
   "display_name": "Python 3.9.7 64-bit",
   "language": "python",
   "name": "python3"
  },
  "language_info": {
   "codemirror_mode": {
    "name": "ipython",
    "version": 3
   },
   "file_extension": ".py",
   "mimetype": "text/x-python",
   "name": "python",
   "nbconvert_exporter": "python",
   "pygments_lexer": "ipython3",
   "version": "3.9.7"
  },
  "orig_nbformat": 4
 },
 "nbformat": 4,
 "nbformat_minor": 2
}

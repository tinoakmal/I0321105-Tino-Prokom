{
 "cells": [
  {
   "cell_type": "markdown",
   "metadata": {},
   "source": [
    "***\n",
    "<h1 align=\"center\">Exercise 06</h1>\n",
    " \n",
    "***\n",
    "## While Loop\n",
    "## Exercise 6.1\n",
    "isilah bagian rumpang berikut. xx diganti tanggal lahir dan yy diganti menjadi bulan lahir. tandanya menyesuaikan yang lebih besar."
   ]
  },
  {
   "cell_type": "code",
   "execution_count": 7,
   "metadata": {},
   "outputs": [
    {
     "name": "stdout",
     "output_type": "stream",
     "text": [
      "Life is never flat\n",
      "Life is never flat\n",
      "Life is never flat\n",
      "Life is never flat\n",
      "Life is never flat\n",
      "Life is never flat\n",
      "Life is never flat\n",
      "Life is never flat\n",
      "Life is never flat\n"
     ]
    }
   ],
   "source": [
    "#menentukan banyak pengulangan\n",
    "n = 13\n",
    "\n",
    "#melakukan pengulangan\n",
    "i = 4\n",
    "\n",
    "while i < n :\n",
    "    print (\"Life is never flat\")\n",
    "    #diisi motto kalian\n",
    "    i = i + 1 # sesuaikan dengan atas agar fungsi perulangan dapat berhenti\n"
   ]
  },
  {
   "cell_type": "markdown",
   "metadata": {},
   "source": [
    "## Exercise 6.2\n",
    "\n",
    "Buatlah code seperti yang dicontohkan pada modul agar user dapat menginputkan sendiri jumlah n yang diinginkan"
   ]
  },
  {
   "cell_type": "code",
   "execution_count": 8,
   "metadata": {},
   "outputs": [
    {
     "name": "stdout",
     "output_type": "stream",
     "text": [
      "6\n",
      "7\n",
      "8\n",
      "9\n",
      "10\n"
     ]
    }
   ],
   "source": [
    "#Kerjakan disini\n",
    "#menentukan banyak pengulangan\n",
    "n = int(input(\"input nilai n: \"))\n",
    "\n",
    "#melakukan pengulangan\n",
    "i = 6\n",
    "\n",
    "while i <= n :\n",
    "    print (i)\n",
    "    i= i + 1"
   ]
  },
  {
   "cell_type": "markdown",
   "metadata": {},
   "source": [
    "## Excercise 6.3\n",
    "\n",
    "isilah xx, yy, dan tanda rumpang seperti pada exercise 6.1\n"
   ]
  },
  {
   "cell_type": "code",
   "execution_count": 11,
   "metadata": {},
   "outputs": [
    {
     "name": "stdout",
     "output_type": "stream",
     "text": [
      "Baris ke-13 :Kingsman\n",
      "Baris ke-12 :Kingsman\n",
      "Baris ke-11 :Kingsman\n",
      "Baris ke-10 :Kingsman\n",
      "Baris ke-9 :Kingsman\n",
      "Baris ke-8 :Kingsman\n",
      "Baris ke-7 :Kingsman\n",
      "Baris ke-6 :Kingsman\n",
      "Baris ke-5 :Kingsman\n",
      "Baris ke-4 :Kingsman\n"
     ]
    }
   ],
   "source": [
    "#melakukan pengulangan\n",
    "i = 13\n",
    "\n",
    "while i >= 4 :\n",
    "    print (\"Baris ke-%d :Kingsman\"%i)\n",
    "    #isi titik-titik dengan judul film favorit kalian\n",
    "    i = i - 1 "
   ]
  },
  {
   "cell_type": "markdown",
   "metadata": {},
   "source": [
    "## FOR LOOP\n",
    "\n",
    "## Exercise 6.4\n",
    "\n",
    "munculkan 3 dari 7 elemen yang berada di dalam list1 dan list2\n"
   ]
  },
  {
   "cell_type": "code",
   "execution_count": 17,
   "metadata": {},
   "outputs": [
    {
     "name": "stdout",
     "output_type": "stream",
     "text": [
      "1 Bakso paris\n",
      "2 Mie ayam yogyakarta\n",
      "3 sate jakarta\n"
     ]
    }
   ],
   "source": [
    "list1 = [\"Bakso\", \"Mie ayam\", \"sate\", \"pecel lele\", \"gorengan\", \"mie goreng\", \"bubur ayam\" ] #masukkan 7 list makanan favorit kalian\n",
    "list2 = [\"paris\", \"yogyakarta\", \"jakarta\", \"bandung\", \"surakarta\", \"budapest\", \"kuala lumpur\"] #masukkan 7 list kota favorit kalian\n",
    "\n",
    "for i in range(0,3) :\n",
    "    print(i+1,list1[i],list2[i])"
   ]
  },
  {
   "cell_type": "markdown",
   "metadata": {},
   "source": [
    "## Perulangan Bersarang\n",
    "\n",
    "## Exercise 6.5"
   ]
  },
  {
   "cell_type": "code",
   "execution_count": 24,
   "metadata": {},
   "outputs": [
    {
     "name": "stdout",
     "output_type": "stream",
     "text": [
      "169 \n",
      "156 144 \n",
      "143 132 121 \n",
      "130 120 110 100 \n",
      "117 108 99 90 81 \n",
      "104 96 88 80 72 64 \n",
      "91 84 77 70 63 56 49 \n",
      "78 72 66 60 54 48 42 36 \n",
      "65 60 55 50 45 40 35 30 25 \n",
      "52 48 44 40 36 32 28 24 20 16 \n"
     ]
    }
   ],
   "source": [
    "i = 13\n",
    "while i >= 4:\n",
    "    j = 13\n",
    "    while j>=i:\n",
    "        print(\"%d \"%(i*j), end = '')\n",
    "        j = j - 1\n",
    "    print()\n",
    "    i-=1"
   ]
  },
  {
   "cell_type": "markdown",
   "metadata": {},
   "source": [
    "## Pernyataan Loncat\n",
    "\n",
    "## Exercise 6.\n",
    "\n",
    "Buatlah fungsi berikut agar muncul angka hingga berhenti sesuai dengan nilai qq\n",
    "qq = angka favorit kalian\n",
    "pp>qq"
   ]
  },
  {
   "cell_type": "code",
   "execution_count": 25,
   "metadata": {},
   "outputs": [
    {
     "name": "stdout",
     "output_type": "stream",
     "text": [
      "012345678910"
     ]
    }
   ],
   "source": [
    "for i in range(21):\n",
    "    print(i,end='')\n",
    "    if i == 10:\n",
    "        break"
   ]
  },
  {
   "cell_type": "markdown",
   "metadata": {},
   "source": [
    "***\n",
    "<h1 align=\"center\">WELL DONE</h1>\n",
    " \n",
    "***"
   ]
  }
 ],
 "metadata": {
  "interpreter": {
   "hash": "cd08f94adcf3cbae37fe85286256f4c2a10455ca9094fd053e9f3d3f09647223"
  },
  "kernelspec": {
   "display_name": "Python 3.9.7 64-bit",
   "language": "python",
   "name": "python3"
  },
  "language_info": {
   "codemirror_mode": {
    "name": "ipython",
    "version": 3
   },
   "file_extension": ".py",
   "mimetype": "text/x-python",
   "name": "python",
   "nbconvert_exporter": "python",
   "pygments_lexer": "ipython3",
   "version": "3.9.7"
  },
  "orig_nbformat": 4
 },
 "nbformat": 4,
 "nbformat_minor": 2
}
